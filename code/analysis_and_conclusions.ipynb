{
 "cells": [
  {
   "cell_type": "markdown",
   "id": "bf9c601d-f01c-47c6-aa18-bbc70d1c3624",
   "metadata": {},
   "source": [
    "# Analysis and Conclusions"
   ]
  },
  {
   "cell_type": "markdown",
   "id": "18105193-1e3b-469a-abbc-873eb01367b4",
   "metadata": {},
   "source": [
    "This notebook includes EDA, main data analysis, and the conclusions of this project."
   ]
  },
  {
   "cell_type": "code",
   "execution_count": 1,
   "id": "0e7e3e1a-3b09-454f-8e01-64144424fff1",
   "metadata": {},
   "outputs": [],
   "source": [
    "# General imports\n",
    "import pandas as pd\n",
    "import matplotlib.pyplot as plt\n",
    "import seaborn as sns\n",
    "from plotting_code import make_quadrant_chart, quadrant_chart"
   ]
  },
  {
   "cell_type": "markdown",
   "id": "5de0d066-a2a7-438c-89a2-fe8d7000e8af",
   "metadata": {},
   "source": [
    "## Exploratory Data Analysis (EDA)"
   ]
  },
  {
   "cell_type": "markdown",
   "id": "923f792b-5770-44fe-b200-36d834e2f92b",
   "metadata": {},
   "source": [
    "As a first step, I will read in the cleaned data, making sure to read the `district_id` column as a string."
   ]
  },
  {
   "cell_type": "code",
   "execution_count": 2,
   "id": "d5af47ff-f774-4633-835f-9d86187c7bae",
   "metadata": {},
   "outputs": [
    {
     "name": "stdout",
     "output_type": "stream",
     "text": [
      "<class 'pandas.core.frame.DataFrame'>\n",
      "RangeIndex: 508 entries, 0 to 507\n",
      "Data columns (total 8 columns):\n",
      " #   Column             Non-Null Count  Dtype  \n",
      "---  ------             --------------  -----  \n",
      " 0   district_id        508 non-null    object \n",
      " 1   district_name      508 non-null    object \n",
      " 2   count_schools      508 non-null    int64  \n",
      " 3   count_students     508 non-null    int64  \n",
      " 4   count_students_12  508 non-null    int64  \n",
      " 5   sat_participation  508 non-null    float64\n",
      " 6   act_participation  508 non-null    float64\n",
      " 7   pct_urm            508 non-null    float64\n",
      "dtypes: float64(3), int64(3), object(2)\n",
      "memory usage: 31.9+ KB\n"
     ]
    },
    {
     "data": {
      "text/html": [
       "<div>\n",
       "<style scoped>\n",
       "    .dataframe tbody tr th:only-of-type {\n",
       "        vertical-align: middle;\n",
       "    }\n",
       "\n",
       "    .dataframe tbody tr th {\n",
       "        vertical-align: top;\n",
       "    }\n",
       "\n",
       "    .dataframe thead th {\n",
       "        text-align: right;\n",
       "    }\n",
       "</style>\n",
       "<table border=\"1\" class=\"dataframe\">\n",
       "  <thead>\n",
       "    <tr style=\"text-align: right;\">\n",
       "      <th></th>\n",
       "      <th>district_id</th>\n",
       "      <th>district_name</th>\n",
       "      <th>count_schools</th>\n",
       "      <th>count_students</th>\n",
       "      <th>count_students_12</th>\n",
       "      <th>sat_participation</th>\n",
       "      <th>act_participation</th>\n",
       "      <th>pct_urm</th>\n",
       "    </tr>\n",
       "  </thead>\n",
       "  <tbody>\n",
       "    <tr>\n",
       "      <th>0</th>\n",
       "      <td>0161176</td>\n",
       "      <td>Fremont Unified</td>\n",
       "      <td>42</td>\n",
       "      <td>35176</td>\n",
       "      <td>2537</td>\n",
       "      <td>0.33</td>\n",
       "      <td>0.20</td>\n",
       "      <td>0.16</td>\n",
       "    </tr>\n",
       "    <tr>\n",
       "      <th>1</th>\n",
       "      <td>0161275</td>\n",
       "      <td>Piedmont City Unified</td>\n",
       "      <td>6</td>\n",
       "      <td>2596</td>\n",
       "      <td>231</td>\n",
       "      <td>0.34</td>\n",
       "      <td>0.50</td>\n",
       "      <td>0.10</td>\n",
       "    </tr>\n",
       "    <tr>\n",
       "      <th>2</th>\n",
       "      <td>0161291</td>\n",
       "      <td>San Leandro Unified</td>\n",
       "      <td>12</td>\n",
       "      <td>8926</td>\n",
       "      <td>754</td>\n",
       "      <td>0.26</td>\n",
       "      <td>0.10</td>\n",
       "      <td>0.61</td>\n",
       "    </tr>\n",
       "    <tr>\n",
       "      <th>3</th>\n",
       "      <td>1062166</td>\n",
       "      <td>Fresno Unified</td>\n",
       "      <td>105</td>\n",
       "      <td>70749</td>\n",
       "      <td>4593</td>\n",
       "      <td>0.23</td>\n",
       "      <td>0.12</td>\n",
       "      <td>0.78</td>\n",
       "    </tr>\n",
       "    <tr>\n",
       "      <th>4</th>\n",
       "      <td>1075127</td>\n",
       "      <td>Mendota Unified</td>\n",
       "      <td>7</td>\n",
       "      <td>3543</td>\n",
       "      <td>234</td>\n",
       "      <td>0.29</td>\n",
       "      <td>0.35</td>\n",
       "      <td>0.97</td>\n",
       "    </tr>\n",
       "  </tbody>\n",
       "</table>\n",
       "</div>"
      ],
      "text/plain": [
       "  district_id          district_name  count_schools  count_students  \\\n",
       "0     0161176        Fremont Unified             42           35176   \n",
       "1     0161275  Piedmont City Unified              6            2596   \n",
       "2     0161291    San Leandro Unified             12            8926   \n",
       "3     1062166         Fresno Unified            105           70749   \n",
       "4     1075127        Mendota Unified              7            3543   \n",
       "\n",
       "   count_students_12  sat_participation  act_participation  pct_urm  \n",
       "0               2537               0.33               0.20     0.16  \n",
       "1                231               0.34               0.50     0.10  \n",
       "2                754               0.26               0.10     0.61  \n",
       "3               4593               0.23               0.12     0.78  \n",
       "4                234               0.29               0.35     0.97  "
      ]
     },
     "execution_count": 2,
     "metadata": {},
     "output_type": "execute_result"
    }
   ],
   "source": [
    "df = pd.read_csv('../data/cleaned_data.csv',\n",
    "                 dtype={'district_id': str})\n",
    "df.info()\n",
    "df.head()"
   ]
  },
  {
   "cell_type": "markdown",
   "id": "cedd8ec3-1bb2-4bc5-ae86-8a870392966b",
   "metadata": {},
   "source": [
    "Below are some additional **summary statistics:**"
   ]
  },
  {
   "cell_type": "code",
   "execution_count": 3,
   "id": "95f984f3-96bb-4499-ae94-3902bad4e128",
   "metadata": {},
   "outputs": [
    {
     "data": {
      "text/html": [
       "<div>\n",
       "<style scoped>\n",
       "    .dataframe tbody tr th:only-of-type {\n",
       "        vertical-align: middle;\n",
       "    }\n",
       "\n",
       "    .dataframe tbody tr th {\n",
       "        vertical-align: top;\n",
       "    }\n",
       "\n",
       "    .dataframe thead th {\n",
       "        text-align: right;\n",
       "    }\n",
       "</style>\n",
       "<table border=\"1\" class=\"dataframe\">\n",
       "  <thead>\n",
       "    <tr style=\"text-align: right;\">\n",
       "      <th></th>\n",
       "      <th>count</th>\n",
       "      <th>mean</th>\n",
       "      <th>std</th>\n",
       "      <th>min</th>\n",
       "      <th>25%</th>\n",
       "      <th>50%</th>\n",
       "      <th>75%</th>\n",
       "      <th>max</th>\n",
       "    </tr>\n",
       "  </thead>\n",
       "  <tbody>\n",
       "    <tr>\n",
       "      <th>count_schools</th>\n",
       "      <td>508.0</td>\n",
       "      <td>15.602362</td>\n",
       "      <td>47.615481</td>\n",
       "      <td>1.00</td>\n",
       "      <td>4.0000</td>\n",
       "      <td>8.00</td>\n",
       "      <td>16.00</td>\n",
       "      <td>1008.00</td>\n",
       "    </tr>\n",
       "    <tr>\n",
       "      <th>count_students</th>\n",
       "      <td>508.0</td>\n",
       "      <td>8957.025591</td>\n",
       "      <td>22942.361639</td>\n",
       "      <td>7.00</td>\n",
       "      <td>926.0000</td>\n",
       "      <td>3462.00</td>\n",
       "      <td>10548.50</td>\n",
       "      <td>453276.00</td>\n",
       "    </tr>\n",
       "    <tr>\n",
       "      <th>count_students_12</th>\n",
       "      <td>508.0</td>\n",
       "      <td>955.994094</td>\n",
       "      <td>2219.602338</td>\n",
       "      <td>13.00</td>\n",
       "      <td>130.5000</td>\n",
       "      <td>359.00</td>\n",
       "      <td>1120.50</td>\n",
       "      <td>41873.00</td>\n",
       "    </tr>\n",
       "    <tr>\n",
       "      <th>sat_participation</th>\n",
       "      <td>508.0</td>\n",
       "      <td>0.273366</td>\n",
       "      <td>0.163625</td>\n",
       "      <td>0.00</td>\n",
       "      <td>0.1800</td>\n",
       "      <td>0.28</td>\n",
       "      <td>0.35</td>\n",
       "      <td>0.94</td>\n",
       "    </tr>\n",
       "    <tr>\n",
       "      <th>act_participation</th>\n",
       "      <td>508.0</td>\n",
       "      <td>0.146831</td>\n",
       "      <td>0.153308</td>\n",
       "      <td>0.00</td>\n",
       "      <td>0.0500</td>\n",
       "      <td>0.11</td>\n",
       "      <td>0.20</td>\n",
       "      <td>1.00</td>\n",
       "    </tr>\n",
       "    <tr>\n",
       "      <th>pct_urm</th>\n",
       "      <td>508.0</td>\n",
       "      <td>0.552106</td>\n",
       "      <td>0.256643</td>\n",
       "      <td>0.07</td>\n",
       "      <td>0.3375</td>\n",
       "      <td>0.55</td>\n",
       "      <td>0.78</td>\n",
       "      <td>1.00</td>\n",
       "    </tr>\n",
       "  </tbody>\n",
       "</table>\n",
       "</div>"
      ],
      "text/plain": [
       "                   count         mean           std    min       25%      50%  \\\n",
       "count_schools      508.0    15.602362     47.615481   1.00    4.0000     8.00   \n",
       "count_students     508.0  8957.025591  22942.361639   7.00  926.0000  3462.00   \n",
       "count_students_12  508.0   955.994094   2219.602338  13.00  130.5000   359.00   \n",
       "sat_participation  508.0     0.273366      0.163625   0.00    0.1800     0.28   \n",
       "act_participation  508.0     0.146831      0.153308   0.00    0.0500     0.11   \n",
       "pct_urm            508.0     0.552106      0.256643   0.07    0.3375     0.55   \n",
       "\n",
       "                        75%        max  \n",
       "count_schools         16.00    1008.00  \n",
       "count_students     10548.50  453276.00  \n",
       "count_students_12   1120.50   41873.00  \n",
       "sat_participation      0.35       0.94  \n",
       "act_participation      0.20       1.00  \n",
       "pct_urm                0.78       1.00  "
      ]
     },
     "execution_count": 3,
     "metadata": {},
     "output_type": "execute_result"
    }
   ],
   "source": [
    "df.describe().T"
   ]
  },
  {
   "cell_type": "markdown",
   "id": "74e7e772-fa22-4a48-8412-4c39c4556904",
   "metadata": {},
   "source": [
    " *A specific ask for this project:*\n",
    " <br>Use a **dictionary comprehension** to apply the standard deviation function you create in part 1 to each numeric column in the dataframe.\n",
    " <br>First I'll bring the function back in:"
   ]
  },
  {
   "cell_type": "code",
   "execution_count": 4,
   "id": "e493396b-3ac9-4d40-917a-ea5fc791e185",
   "metadata": {},
   "outputs": [],
   "source": [
    "def my_mean(vals):\n",
    "    # This function takes a list or tuple of numbers and returns the mean.\n",
    "    return sum(x for x in vals) / len(vals)\n",
    "\n",
    "def my_stdev(vals):\n",
    "    # This function takes a list or tuple of numbers and returns the standard deviation.\n",
    "    n = len(vals)    \n",
    "    mu = my_mean(vals)  # Use my_mean function defined earlier\n",
    "    return (sum((x - mu) ** 2 for x in vals) / n) ** 0.5"
   ]
  },
  {
   "cell_type": "markdown",
   "id": "a1bbeae4-3d1e-456a-be9d-8397146dffa1",
   "metadata": {},
   "source": [
    "Now I will apply it to each numeric column of the dataframe."
   ]
  },
  {
   "cell_type": "code",
   "execution_count": 5,
   "id": "3bf57b98-c4a6-49d3-a785-d3e1231abb90",
   "metadata": {},
   "outputs": [
    {
     "data": {
      "text/plain": [
       "{'count_schools': 47.56859276920053,\n",
       " 'count_students': 22919.769450900145,\n",
       " 'count_students_12': 2217.4166137515754,\n",
       " 'sat_participation': 0.16346364122710594,\n",
       " 'act_participation': 0.15315704873319788,\n",
       " 'pct_urm': 0.25639016719510843}"
      ]
     },
     "execution_count": 5,
     "metadata": {},
     "output_type": "execute_result"
    }
   ],
   "source": [
    "numeric_cols = [col for col in df.columns if df[col].dtype in ('int64', 'float64')]\n",
    "sd = {col_name: my_stdev(df[col_name]) for col_name in numeric_cols}\n",
    "sd"
   ]
  },
  {
   "cell_type": "markdown",
   "id": "81541700-2da7-480d-b3ed-c1e10eff5c93",
   "metadata": {},
   "source": [
    "One thing I immediately notice is the standard deviation for `count_schools`, `count_students`, and `count_students_12`. The values for this are really large!\n",
    "<br> I'm going to **plot histograms** to see what all of the distributions look like."
   ]
  },
  {
   "cell_type": "code",
   "execution_count": 6,
   "id": "94fafeb2-9ae0-46fe-ba30-c661156e81fb",
   "metadata": {},
   "outputs": [
    {
     "data": {
      "image/png": "[encoded data removed]",
      "text/plain": [
       "<Figure size 1008x720 with 6 Axes>"
      ]
     },
     "metadata": {
      "needs_background": "light"
     },
     "output_type": "display_data"
    }
   ],
   "source": [
    "fig, axs = plt.subplots(3, 2, figsize=(14, 10))\n",
    "axs = axs.ravel()  # Smash the axes into a 1D array\n",
    "for i, col in enumerate(numeric_cols):\n",
    "    axs[i].hist(df[col], bins=50)\n",
    "    axs[i].set_title(col)"
   ]
  },
  {
   "cell_type": "markdown",
   "id": "982c2240-18e8-4c01-9706-a7dd624a68d4",
   "metadata": {},
   "source": [
    "It looks like the standard deviation for `count_schools`, `count_students`, and `count_students_12` is so large because while most districts are very small, there are a few really large districts that are skewing the distribution.\n",
    "<br>Distribution for `sat_participation` seems to peak at around 30%, with another peak at 0%. The `act_participation` peaks at 0% and drops off from there.\n",
    "<br>`pct_urm` seems evenly distributed from 0 to 1.\n",
    "<br><br> Next we'll look at a **heatmap** to see possible relationships between features."
   ]
  },
  {
   "cell_type": "code",
   "execution_count": 7,
   "id": "dc716d77-e7a8-47a8-8ccf-8515dd47408b",
   "metadata": {},
   "outputs": [
    {
     "data": {
      "image/png": "[encoded data removed]",
      "text/plain": [
       "<Figure size 864x864 with 2 Axes>"
      ]
     },
     "metadata": {
      "needs_background": "light"
     },
     "output_type": "display_data"
    }
   ],
   "source": [
    "plt.figure(figsize=(12,12))\n",
    "sns.heatmap(df.corr(), annot=True);"
   ]
  },
  {
   "cell_type": "markdown",
   "id": "82acfc1c-e4b5-4f37-be44-e6da9fd412ee",
   "metadata": {},
   "source": [
    "The heatmap shows features like `count_schools`, `count_students`, and `count_students_12` to be highly correlated. This is expected because a district with more schools is likely to have more students.\n",
    "<br>There is a moderate correlation between SAT and ACT participation.\n",
    "<br>Participation in either test is not strongly correlated with `pct_urm`"
   ]
  },
  {
   "cell_type": "markdown",
   "id": "a8b7077d-b04e-4d15-bc06-95982a354b83",
   "metadata": {},
   "source": [
    "Next, I will create **box plots** for the numerical features.\n",
    "<br>At this point, I've decided it will be the most valuable to the California Department of Education if I only consider the 25 largest school districts with respect to number of enrolled high school seniors.\n",
    "<br>This eliminates a lot of districts that are too small for the department's studies."
   ]
  },
  {
   "cell_type": "code",
   "execution_count": 8,
   "id": "3dc9e638-01b2-4c7d-a126-50cb9503fbe4",
   "metadata": {},
   "outputs": [
    {
     "data": {
      "image/png": "[encoded data removed]",
      "text/plain": [
       "<Figure size 1008x720 with 6 Axes>"
      ]
     },
     "metadata": {
      "needs_background": "light"
     },
     "output_type": "display_data"
    }
   ],
   "source": [
    "fig, axs = plt.subplots(3, 2, figsize=(14, 10))\n",
    "axs = axs.ravel()  # Smash the axes into a 1D array\n",
    "for i, col in enumerate(numeric_cols):\n",
    "    axs[i].boxplot(df.sort_values('count_students_12', ascending=False).head(25)[col], vert=False)\n",
    "    axs[i].set_title(col)"
   ]
  },
  {
   "cell_type": "markdown",
   "id": "945c9447-ccee-45f1-afc5-0128f79c14d5",
   "metadata": {},
   "source": [
    "I'm interested to know **which school district is the large outlier** in terms of number of schools and students."
   ]
  },
  {
   "cell_type": "code",
   "execution_count": 9,
   "id": "ecc4dc12-fdfb-440a-aef5-e3e5b67820a3",
   "metadata": {},
   "outputs": [
    {
     "data": {
      "text/html": [
       "<div>\n",
       "<style scoped>\n",
       "    .dataframe tbody tr th:only-of-type {\n",
       "        vertical-align: middle;\n",
       "    }\n",
       "\n",
       "    .dataframe tbody tr th {\n",
       "        vertical-align: top;\n",
       "    }\n",
       "\n",
       "    .dataframe thead th {\n",
       "        text-align: right;\n",
       "    }\n",
       "</style>\n",
       "<table border=\"1\" class=\"dataframe\">\n",
       "  <thead>\n",
       "    <tr style=\"text-align: right;\">\n",
       "      <th></th>\n",
       "      <th>district_id</th>\n",
       "      <th>district_name</th>\n",
       "      <th>count_schools</th>\n",
       "      <th>count_students</th>\n",
       "      <th>count_students_12</th>\n",
       "      <th>sat_participation</th>\n",
       "      <th>act_participation</th>\n",
       "      <th>pct_urm</th>\n",
       "    </tr>\n",
       "  </thead>\n",
       "  <tbody>\n",
       "    <tr>\n",
       "      <th>300</th>\n",
       "      <td>1964733</td>\n",
       "      <td>Los Angeles Unified</td>\n",
       "      <td>1008</td>\n",
       "      <td>453276</td>\n",
       "      <td>41873</td>\n",
       "      <td>0.48</td>\n",
       "      <td>0.22</td>\n",
       "      <td>0.86</td>\n",
       "    </tr>\n",
       "    <tr>\n",
       "      <th>162</th>\n",
       "      <td>1563529</td>\n",
       "      <td>Kern High</td>\n",
       "      <td>24</td>\n",
       "      <td>39884</td>\n",
       "      <td>10175</td>\n",
       "      <td>0.27</td>\n",
       "      <td>0.07</td>\n",
       "      <td>0.73</td>\n",
       "    </tr>\n",
       "    <tr>\n",
       "      <th>382</th>\n",
       "      <td>3768338</td>\n",
       "      <td>San Diego Unified</td>\n",
       "      <td>222</td>\n",
       "      <td>103194</td>\n",
       "      <td>9418</td>\n",
       "      <td>0.36</td>\n",
       "      <td>0.21</td>\n",
       "      <td>0.52</td>\n",
       "    </tr>\n",
       "    <tr>\n",
       "      <th>475</th>\n",
       "      <td>3768411</td>\n",
       "      <td>Sweetwater Union High</td>\n",
       "      <td>30</td>\n",
       "      <td>39165</td>\n",
       "      <td>7934</td>\n",
       "      <td>0.33</td>\n",
       "      <td>0.12</td>\n",
       "      <td>0.76</td>\n",
       "    </tr>\n",
       "    <tr>\n",
       "      <th>177</th>\n",
       "      <td>4369427</td>\n",
       "      <td>East Side Union High</td>\n",
       "      <td>26</td>\n",
       "      <td>22606</td>\n",
       "      <td>6785</td>\n",
       "      <td>0.35</td>\n",
       "      <td>0.11</td>\n",
       "      <td>0.46</td>\n",
       "    </tr>\n",
       "  </tbody>\n",
       "</table>\n",
       "</div>"
      ],
      "text/plain": [
       "    district_id          district_name  count_schools  count_students  \\\n",
       "300     1964733    Los Angeles Unified           1008          453276   \n",
       "162     1563529              Kern High             24           39884   \n",
       "382     3768338      San Diego Unified            222          103194   \n",
       "475     3768411  Sweetwater Union High             30           39165   \n",
       "177     4369427   East Side Union High             26           22606   \n",
       "\n",
       "     count_students_12  sat_participation  act_participation  pct_urm  \n",
       "300              41873               0.48               0.22     0.86  \n",
       "162              10175               0.27               0.07     0.73  \n",
       "382               9418               0.36               0.21     0.52  \n",
       "475               7934               0.33               0.12     0.76  \n",
       "177               6785               0.35               0.11     0.46  "
      ]
     },
     "execution_count": 9,
     "metadata": {},
     "output_type": "execute_result"
    }
   ],
   "source": [
    "df.sort_values('count_students_12', ascending=False).head()"
   ]
  },
  {
   "cell_type": "markdown",
   "id": "950eb4e7-0215-4fb8-9171-b4363734712f",
   "metadata": {},
   "source": [
    "It appears the **Los Angeles Unified School District** is an outlier when it comes to enrolled students. They have about 4x the enrolled high school seniors as the next largest district."
   ]
  },
  {
   "cell_type": "markdown",
   "id": "46105435-01a6-4791-9d14-3c84c211a721",
   "metadata": {},
   "source": [
    "Based on my problem statement, I already know the main visualization I want to produce is **two scatter charts** that are separated into quadrants. These charts will help identify districts with high proportions of URM students, and low participation rates in the SAT and ACT. I will also summarize the findings in a table.\n",
    "<br><br>I wrote a custom function to make this plotting a little cleaner. You can find it in [`plotting_code.py`](./plotting_code.py)"
   ]
  },
  {
   "cell_type": "code",
   "execution_count": 10,
   "id": "0951c1da-d7df-4f74-97ce-39bbf09deedf",
   "metadata": {},
   "outputs": [],
   "source": [
    "# Just looking at the top 25 schools by enrolled high school seniors.\n",
    "# Storing as it's own dataframe for ease of use.\n",
    "df_25 = df.sort_values('count_students_12', ascending=False).head(25)"
   ]
  },
  {
   "cell_type": "code",
   "execution_count": 11,
   "id": "06362d2c-2bb9-43ca-ae25-bf00dcac4a00",
   "metadata": {},
   "outputs": [
    {
     "data": {
      "image/png": "[encoded data removed]",
      "text/plain": [
       "<Figure size 432x432 with 1 Axes>"
      ]
     },
     "metadata": {
      "needs_background": "light"
     },
     "output_type": "display_data"
    }
   ],
   "source": [
    "make_quadrant_chart(df_25['pct_urm'], df_25['act_participation'],\n",
    "                   xlabel='URM Student Proportion',\n",
    "                   ylabel ='ACT Participation Rate',\n",
    "                    figsize=(6, 6),\n",
    "                   highlight_quadrant=4,\n",
    "                    \n",
    "# Uncomment to actually save the file\n",
    "#                    fname='act_participation.png', \n",
    "                    \n",
    "                   title='ACT Participation by District')"
   ]
  },
  {
   "cell_type": "code",
   "execution_count": 12,
   "id": "6e5fd65b-11c0-4357-beec-3f3ae09fc032",
   "metadata": {},
   "outputs": [
    {
     "data": {
      "image/png": "[encoded data removed]",
      "text/plain": [
       "<Figure size 432x432 with 1 Axes>"
      ]
     },
     "metadata": {
      "needs_background": "light"
     },
     "output_type": "display_data"
    }
   ],
   "source": [
    "make_quadrant_chart(df_25['pct_urm'], df_25['sat_participation'],\n",
    "                   xlabel='URM Student Proportion',\n",
    "                   ylabel ='SAT Participation Rate',\n",
    "                    figsize=(6, 6),\n",
    "                   highlight_quadrant=4,\n",
    "                    \n",
    "# Uncomment to actually save the file\n",
    "#                    fname='act_participation.png', \n",
    "                    \n",
    "                   title='SAT Participation by District')"
   ]
  },
  {
   "cell_type": "code",
   "execution_count": 15,
   "id": "82b2b417-d536-4d33-b25b-c71bae08f6c6",
   "metadata": {},
   "outputs": [
    {
     "data": {
      "image/png": "[encoded data removed]",
      "text/plain": [
       "<Figure size 432x288 with 1 Axes>"
      ]
     },
     "metadata": {
      "needs_background": "light"
     },
     "output_type": "display_data"
    }
   ],
   "source": [
    "quadrant_chart(df_25['pct_urm'], df_25['sat_participation'])"
   ]
  },
  {
   "cell_type": "code",
   "execution_count": 13,
   "id": "422cd1eb-a74c-4bd8-80a2-26f24c895196",
   "metadata": {},
   "outputs": [],
   "source": [
    "districts_of_interest = df_25[(df_25['pct_urm'] >= df_25['pct_urm'].mean()) & \n",
    "     ((df_25['sat_participation'] < df_25['sat_participation'].mean()) |\n",
    "     (df_25['act_participation'] < df_25['act_participation'].mean()))].copy()\n",
    "\n",
    "\n",
    "districts_of_interest.reset_index(inplace=True, drop=True)\n",
    "\n",
    "sat_mask = districts_of_interest['sat_participation'] < df_25['sat_participation'].mean()\n",
    "act_mask = districts_of_interest['act_participation'] < df_25['act_participation'].mean()\n",
    "\n",
    "districts_of_interest['below_avg'] = pd.Series(['SAT, ACT'] * 11).mask(~sat_mask, 'ACT').mask(~act_mask, 'SAT')"
   ]
  },
  {
   "cell_type": "code",
   "execution_count": 14,
   "id": "c36710d2-43f1-413f-b039-c92d45df7281",
   "metadata": {},
   "outputs": [
    {
     "data": {
      "text/html": [
       "<div>\n",
       "<style scoped>\n",
       "    .dataframe tbody tr th:only-of-type {\n",
       "        vertical-align: middle;\n",
       "    }\n",
       "\n",
       "    .dataframe tbody tr th {\n",
       "        vertical-align: top;\n",
       "    }\n",
       "\n",
       "    .dataframe thead th {\n",
       "        text-align: right;\n",
       "    }\n",
       "</style>\n",
       "<table border=\"1\" class=\"dataframe\">\n",
       "  <thead>\n",
       "    <tr style=\"text-align: right;\">\n",
       "      <th></th>\n",
       "      <th>District</th>\n",
       "      <th>Count Schools</th>\n",
       "      <th>Count Students</th>\n",
       "      <th>Count Students (Grade 12)</th>\n",
       "      <th>SAT Participation</th>\n",
       "      <th>ACT Participation</th>\n",
       "      <th>Percent URM</th>\n",
       "      <th>Below Average Participation</th>\n",
       "    </tr>\n",
       "  </thead>\n",
       "  <tbody>\n",
       "    <tr>\n",
       "      <th>0</th>\n",
       "      <td>Kern High</td>\n",
       "      <td>24</td>\n",
       "      <td>39884</td>\n",
       "      <td>10175</td>\n",
       "      <td>0.27</td>\n",
       "      <td>0.07</td>\n",
       "      <td>0.73</td>\n",
       "      <td>SAT, ACT</td>\n",
       "    </tr>\n",
       "    <tr>\n",
       "      <th>1</th>\n",
       "      <td>Sweetwater Union High</td>\n",
       "      <td>30</td>\n",
       "      <td>39165</td>\n",
       "      <td>7934</td>\n",
       "      <td>0.33</td>\n",
       "      <td>0.12</td>\n",
       "      <td>0.76</td>\n",
       "      <td>SAT, ACT</td>\n",
       "    </tr>\n",
       "    <tr>\n",
       "      <th>4</th>\n",
       "      <td>Antelope Valley Union High</td>\n",
       "      <td>14</td>\n",
       "      <td>21077</td>\n",
       "      <td>5657</td>\n",
       "      <td>0.20</td>\n",
       "      <td>0.06</td>\n",
       "      <td>0.81</td>\n",
       "      <td>SAT, ACT</td>\n",
       "    </tr>\n",
       "    <tr>\n",
       "      <th>5</th>\n",
       "      <td>Anaheim Union High</td>\n",
       "      <td>20</td>\n",
       "      <td>30292</td>\n",
       "      <td>5479</td>\n",
       "      <td>0.27</td>\n",
       "      <td>0.08</td>\n",
       "      <td>0.71</td>\n",
       "      <td>SAT, ACT</td>\n",
       "    </tr>\n",
       "    <tr>\n",
       "      <th>6</th>\n",
       "      <td>Fresno Unified</td>\n",
       "      <td>105</td>\n",
       "      <td>70749</td>\n",
       "      <td>4593</td>\n",
       "      <td>0.23</td>\n",
       "      <td>0.12</td>\n",
       "      <td>0.78</td>\n",
       "      <td>SAT, ACT</td>\n",
       "    </tr>\n",
       "    <tr>\n",
       "      <th>8</th>\n",
       "      <td>Modesto City High</td>\n",
       "      <td>9</td>\n",
       "      <td>15122</td>\n",
       "      <td>3858</td>\n",
       "      <td>0.28</td>\n",
       "      <td>0.13</td>\n",
       "      <td>0.61</td>\n",
       "      <td>SAT, ACT</td>\n",
       "    </tr>\n",
       "    <tr>\n",
       "      <th>10</th>\n",
       "      <td>San Bernardino City Unified</td>\n",
       "      <td>87</td>\n",
       "      <td>48936</td>\n",
       "      <td>3558</td>\n",
       "      <td>0.26</td>\n",
       "      <td>0.13</td>\n",
       "      <td>0.89</td>\n",
       "      <td>SAT, ACT</td>\n",
       "    </tr>\n",
       "    <tr>\n",
       "      <th>9</th>\n",
       "      <td>Oakland Unified</td>\n",
       "      <td>123</td>\n",
       "      <td>36524</td>\n",
       "      <td>3663</td>\n",
       "      <td>0.33</td>\n",
       "      <td>0.22</td>\n",
       "      <td>0.67</td>\n",
       "      <td>SAT</td>\n",
       "    </tr>\n",
       "    <tr>\n",
       "      <th>2</th>\n",
       "      <td>Chaffey Joint Union High</td>\n",
       "      <td>11</td>\n",
       "      <td>23883</td>\n",
       "      <td>6046</td>\n",
       "      <td>0.40</td>\n",
       "      <td>0.13</td>\n",
       "      <td>0.72</td>\n",
       "      <td>ACT</td>\n",
       "    </tr>\n",
       "    <tr>\n",
       "      <th>3</th>\n",
       "      <td>Long Beach Unified</td>\n",
       "      <td>85</td>\n",
       "      <td>72935</td>\n",
       "      <td>5929</td>\n",
       "      <td>0.62</td>\n",
       "      <td>0.10</td>\n",
       "      <td>0.70</td>\n",
       "      <td>ACT</td>\n",
       "    </tr>\n",
       "    <tr>\n",
       "      <th>7</th>\n",
       "      <td>Oxnard Union High</td>\n",
       "      <td>12</td>\n",
       "      <td>16701</td>\n",
       "      <td>4063</td>\n",
       "      <td>0.66</td>\n",
       "      <td>0.08</td>\n",
       "      <td>0.81</td>\n",
       "      <td>ACT</td>\n",
       "    </tr>\n",
       "  </tbody>\n",
       "</table>\n",
       "</div>"
      ],
      "text/plain": [
       "                       District  Count Schools  Count Students  \\\n",
       "0                     Kern High             24           39884   \n",
       "1         Sweetwater Union High             30           39165   \n",
       "4    Antelope Valley Union High             14           21077   \n",
       "5            Anaheim Union High             20           30292   \n",
       "6                Fresno Unified            105           70749   \n",
       "8             Modesto City High              9           15122   \n",
       "10  San Bernardino City Unified             87           48936   \n",
       "9               Oakland Unified            123           36524   \n",
       "2      Chaffey Joint Union High             11           23883   \n",
       "3            Long Beach Unified             85           72935   \n",
       "7             Oxnard Union High             12           16701   \n",
       "\n",
       "    Count Students (Grade 12)  SAT Participation  ACT Participation  \\\n",
       "0                       10175               0.27               0.07   \n",
       "1                        7934               0.33               0.12   \n",
       "4                        5657               0.20               0.06   \n",
       "5                        5479               0.27               0.08   \n",
       "6                        4593               0.23               0.12   \n",
       "8                        3858               0.28               0.13   \n",
       "10                       3558               0.26               0.13   \n",
       "9                        3663               0.33               0.22   \n",
       "2                        6046               0.40               0.13   \n",
       "3                        5929               0.62               0.10   \n",
       "7                        4063               0.66               0.08   \n",
       "\n",
       "    Percent URM Below Average Participation  \n",
       "0          0.73                    SAT, ACT  \n",
       "1          0.76                    SAT, ACT  \n",
       "4          0.81                    SAT, ACT  \n",
       "5          0.71                    SAT, ACT  \n",
       "6          0.78                    SAT, ACT  \n",
       "8          0.61                    SAT, ACT  \n",
       "10         0.89                    SAT, ACT  \n",
       "9          0.67                         SAT  \n",
       "2          0.72                         ACT  \n",
       "3          0.70                         ACT  \n",
       "7          0.81                         ACT  "
      ]
     },
     "execution_count": 14,
     "metadata": {},
     "output_type": "execute_result"
    }
   ],
   "source": [
    "table = districts_of_interest.drop('district_id', 1).sort_values(['below_avg', 'count_students_12'], ascending=False)\n",
    "table.columns=['District', 'Count Schools', 'Count Students', 'Count Students (Grade 12)', 'SAT Participation', 'ACT Participation', 'Percent URM', 'Below Average Participation']\n",
    "table"
   ]
  },
  {
   "cell_type": "markdown",
   "id": "1e59e8c5-3c11-4fbd-ac46-1893a34f2c1b",
   "metadata": {},
   "source": [
    "## Conclusions and Recommendations\n",
    "The California Department of Education should use the findings above to guide their research on educational inequity. The 11 school districts listed in the table are good starting points for research because they have higher-than-average proportions of students from URM groups, and lower than average participation rates for one or more college admissions tests. This project does not identify a correlation between test participation and the percentage of URM students in a district. It simply provides a refined list of districts which could provide the most value for research."
   ]
  }
 ],
 "metadata": {
  "kernelspec": {
   "display_name": "Python 3",
   "language": "python",
   "name": "python3"
  },
  "language_info": {
   "codemirror_mode": {
    "name": "ipython",
    "version": 3
   },
   "file_extension": ".py",
   "mimetype": "text/x-python",
   "name": "python",
   "nbconvert_exporter": "python",
   "pygments_lexer": "ipython3",
   "version": "3.8.8"
  }
 },
 "nbformat": 4,
 "nbformat_minor": 5
}
